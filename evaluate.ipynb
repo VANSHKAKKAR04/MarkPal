{
 "cells": [
  {
   "cell_type": "code",
   "execution_count": 8,
   "id": "d4b912ae",
   "metadata": {},
   "outputs": [
    {
     "name": "stdout",
     "output_type": "stream",
     "text": [
      "Requirement already satisfied: google-api-python-client in c:\\users\\lenovo\\onedrive\\documents\\projects\\markpal\\venv\\lib\\site-packages (from -r requirements.txt (line 1)) (2.166.0)\n",
      "Requirement already satisfied: beautifulsoup4 in c:\\users\\lenovo\\onedrive\\documents\\projects\\markpal\\venv\\lib\\site-packages (from -r requirements.txt (line 2)) (4.13.3)\n",
      "Requirement already satisfied: pinecone in c:\\users\\lenovo\\onedrive\\documents\\projects\\markpal\\venv\\lib\\site-packages (from -r requirements.txt (line 3)) (6.0.2)\n",
      "Requirement already satisfied: openai in c:\\users\\lenovo\\onedrive\\documents\\projects\\markpal\\venv\\lib\\site-packages (from -r requirements.txt (line 4)) (1.70.0)\n",
      "Requirement already satisfied: requests in c:\\users\\lenovo\\onedrive\\documents\\projects\\markpal\\venv\\lib\\site-packages (from -r requirements.txt (line 5)) (2.32.3)\n",
      "Requirement already satisfied: tqdm in c:\\users\\lenovo\\onedrive\\documents\\projects\\markpal\\venv\\lib\\site-packages (from -r requirements.txt (line 6)) (4.67.1)\n",
      "Requirement already satisfied: textblob in c:\\users\\lenovo\\onedrive\\documents\\projects\\markpal\\venv\\lib\\site-packages (from -r requirements.txt (line 7)) (0.19.0)\n",
      "Requirement already satisfied: scikit-learn in c:\\users\\lenovo\\onedrive\\documents\\projects\\markpal\\venv\\lib\\site-packages (from -r requirements.txt (line 8)) (1.6.1)\n",
      "Requirement already satisfied: textstat in c:\\users\\lenovo\\onedrive\\documents\\projects\\markpal\\venv\\lib\\site-packages (from -r requirements.txt (line 9)) (0.7.5)\n",
      "Requirement already satisfied: pandas in c:\\users\\lenovo\\onedrive\\documents\\projects\\markpal\\venv\\lib\\site-packages (from -r requirements.txt (line 10)) (2.2.3)\n",
      "Requirement already satisfied: httplib2<1.0.0,>=0.19.0 in c:\\users\\lenovo\\onedrive\\documents\\projects\\markpal\\venv\\lib\\site-packages (from google-api-python-client->-r requirements.txt (line 1)) (0.22.0)\n",
      "Requirement already satisfied: google-auth!=2.24.0,!=2.25.0,<3.0.0,>=1.32.0 in c:\\users\\lenovo\\onedrive\\documents\\projects\\markpal\\venv\\lib\\site-packages (from google-api-python-client->-r requirements.txt (line 1)) (2.38.0)\n",
      "Requirement already satisfied: google-auth-httplib2<1.0.0,>=0.2.0 in c:\\users\\lenovo\\onedrive\\documents\\projects\\markpal\\venv\\lib\\site-packages (from google-api-python-client->-r requirements.txt (line 1)) (0.2.0)\n",
      "Requirement already satisfied: google-api-core!=2.0.*,!=2.1.*,!=2.2.*,!=2.3.0,<3.0.0,>=1.31.5 in c:\\users\\lenovo\\onedrive\\documents\\projects\\markpal\\venv\\lib\\site-packages (from google-api-python-client->-r requirements.txt (line 1)) (2.24.2)\n",
      "Requirement already satisfied: uritemplate<5,>=3.0.1 in c:\\users\\lenovo\\onedrive\\documents\\projects\\markpal\\venv\\lib\\site-packages (from google-api-python-client->-r requirements.txt (line 1)) (4.1.1)\n",
      "Requirement already satisfied: soupsieve>1.2 in c:\\users\\lenovo\\onedrive\\documents\\projects\\markpal\\venv\\lib\\site-packages (from beautifulsoup4->-r requirements.txt (line 2)) (2.6)\n",
      "Requirement already satisfied: typing-extensions>=4.0.0 in c:\\users\\lenovo\\onedrive\\documents\\projects\\markpal\\venv\\lib\\site-packages (from beautifulsoup4->-r requirements.txt (line 2)) (4.13.0)\n",
      "Requirement already satisfied: certifi>=2019.11.17 in c:\\users\\lenovo\\onedrive\\documents\\projects\\markpal\\venv\\lib\\site-packages (from pinecone->-r requirements.txt (line 3)) (2025.1.31)\n",
      "Requirement already satisfied: pinecone-plugin-interface<0.0.8,>=0.0.7 in c:\\users\\lenovo\\onedrive\\documents\\projects\\markpal\\venv\\lib\\site-packages (from pinecone->-r requirements.txt (line 3)) (0.0.7)\n",
      "Requirement already satisfied: python-dateutil>=2.5.3 in c:\\users\\lenovo\\onedrive\\documents\\projects\\markpal\\venv\\lib\\site-packages (from pinecone->-r requirements.txt (line 3)) (2.9.0.post0)\n",
      "Requirement already satisfied: urllib3>=1.26.5 in c:\\users\\lenovo\\onedrive\\documents\\projects\\markpal\\venv\\lib\\site-packages (from pinecone->-r requirements.txt (line 3)) (2.3.0)\n",
      "Requirement already satisfied: anyio<5,>=3.5.0 in c:\\users\\lenovo\\onedrive\\documents\\projects\\markpal\\venv\\lib\\site-packages (from openai->-r requirements.txt (line 4)) (4.9.0)\n",
      "Requirement already satisfied: distro<2,>=1.7.0 in c:\\users\\lenovo\\onedrive\\documents\\projects\\markpal\\venv\\lib\\site-packages (from openai->-r requirements.txt (line 4)) (1.9.0)\n",
      "Requirement already satisfied: httpx<1,>=0.23.0 in c:\\users\\lenovo\\onedrive\\documents\\projects\\markpal\\venv\\lib\\site-packages (from openai->-r requirements.txt (line 4)) (0.28.1)\n",
      "Requirement already satisfied: jiter<1,>=0.4.0 in c:\\users\\lenovo\\onedrive\\documents\\projects\\markpal\\venv\\lib\\site-packages (from openai->-r requirements.txt (line 4)) (0.9.0)\n",
      "Requirement already satisfied: pydantic<3,>=1.9.0 in c:\\users\\lenovo\\onedrive\\documents\\projects\\markpal\\venv\\lib\\site-packages (from openai->-r requirements.txt (line 4)) (2.10.6)\n",
      "Requirement already satisfied: sniffio in c:\\users\\lenovo\\onedrive\\documents\\projects\\markpal\\venv\\lib\\site-packages (from openai->-r requirements.txt (line 4)) (1.3.1)\n",
      "Requirement already satisfied: charset-normalizer<4,>=2 in c:\\users\\lenovo\\onedrive\\documents\\projects\\markpal\\venv\\lib\\site-packages (from requests->-r requirements.txt (line 5)) (3.4.1)\n",
      "Requirement already satisfied: idna<4,>=2.5 in c:\\users\\lenovo\\onedrive\\documents\\projects\\markpal\\venv\\lib\\site-packages (from requests->-r requirements.txt (line 5)) (3.10)\n",
      "Requirement already satisfied: colorama in c:\\users\\lenovo\\onedrive\\documents\\projects\\markpal\\venv\\lib\\site-packages (from tqdm->-r requirements.txt (line 6)) (0.4.6)\n",
      "Requirement already satisfied: nltk>=3.9 in c:\\users\\lenovo\\onedrive\\documents\\projects\\markpal\\venv\\lib\\site-packages (from textblob->-r requirements.txt (line 7)) (3.9.1)\n",
      "Requirement already satisfied: numpy>=1.19.5 in c:\\users\\lenovo\\onedrive\\documents\\projects\\markpal\\venv\\lib\\site-packages (from scikit-learn->-r requirements.txt (line 8)) (2.2.4)\n",
      "Requirement already satisfied: scipy>=1.6.0 in c:\\users\\lenovo\\onedrive\\documents\\projects\\markpal\\venv\\lib\\site-packages (from scikit-learn->-r requirements.txt (line 8)) (1.15.2)\n",
      "Requirement already satisfied: joblib>=1.2.0 in c:\\users\\lenovo\\onedrive\\documents\\projects\\markpal\\venv\\lib\\site-packages (from scikit-learn->-r requirements.txt (line 8)) (1.4.2)\n",
      "Requirement already satisfied: threadpoolctl>=3.1.0 in c:\\users\\lenovo\\onedrive\\documents\\projects\\markpal\\venv\\lib\\site-packages (from scikit-learn->-r requirements.txt (line 8)) (3.6.0)\n",
      "Requirement already satisfied: pyphen in c:\\users\\lenovo\\onedrive\\documents\\projects\\markpal\\venv\\lib\\site-packages (from textstat->-r requirements.txt (line 9)) (0.17.2)\n",
      "Requirement already satisfied: cmudict in c:\\users\\lenovo\\onedrive\\documents\\projects\\markpal\\venv\\lib\\site-packages (from textstat->-r requirements.txt (line 9)) (1.0.32)\n",
      "Requirement already satisfied: setuptools in c:\\users\\lenovo\\onedrive\\documents\\projects\\markpal\\venv\\lib\\site-packages (from textstat->-r requirements.txt (line 9)) (78.1.0)\n",
      "Requirement already satisfied: pytz>=2020.1 in c:\\users\\lenovo\\onedrive\\documents\\projects\\markpal\\venv\\lib\\site-packages (from pandas->-r requirements.txt (line 10)) (2025.2)\n",
      "Requirement already satisfied: tzdata>=2022.7 in c:\\users\\lenovo\\onedrive\\documents\\projects\\markpal\\venv\\lib\\site-packages (from pandas->-r requirements.txt (line 10)) (2025.2)\n",
      "Requirement already satisfied: googleapis-common-protos<2.0.0,>=1.56.2 in c:\\users\\lenovo\\onedrive\\documents\\projects\\markpal\\venv\\lib\\site-packages (from google-api-core!=2.0.*,!=2.1.*,!=2.2.*,!=2.3.0,<3.0.0,>=1.31.5->google-api-python-client->-r requirements.txt (line 1)) (1.69.2)\n",
      "Requirement already satisfied: protobuf!=3.20.0,!=3.20.1,!=4.21.0,!=4.21.1,!=4.21.2,!=4.21.3,!=4.21.4,!=4.21.5,<7.0.0,>=3.19.5 in c:\\users\\lenovo\\onedrive\\documents\\projects\\markpal\\venv\\lib\\site-packages (from google-api-core!=2.0.*,!=2.1.*,!=2.2.*,!=2.3.0,<3.0.0,>=1.31.5->google-api-python-client->-r requirements.txt (line 1)) (5.29.4)\n",
      "Requirement already satisfied: proto-plus<2.0.0,>=1.22.3 in c:\\users\\lenovo\\onedrive\\documents\\projects\\markpal\\venv\\lib\\site-packages (from google-api-core!=2.0.*,!=2.1.*,!=2.2.*,!=2.3.0,<3.0.0,>=1.31.5->google-api-python-client->-r requirements.txt (line 1)) (1.26.1)\n",
      "Requirement already satisfied: cachetools<6.0,>=2.0.0 in c:\\users\\lenovo\\onedrive\\documents\\projects\\markpal\\venv\\lib\\site-packages (from google-auth!=2.24.0,!=2.25.0,<3.0.0,>=1.32.0->google-api-python-client->-r requirements.txt (line 1)) (5.5.2)\n",
      "Requirement already satisfied: pyasn1-modules>=0.2.1 in c:\\users\\lenovo\\onedrive\\documents\\projects\\markpal\\venv\\lib\\site-packages (from google-auth!=2.24.0,!=2.25.0,<3.0.0,>=1.32.0->google-api-python-client->-r requirements.txt (line 1)) (0.4.1)\n",
      "Requirement already satisfied: rsa<5,>=3.1.4 in c:\\users\\lenovo\\onedrive\\documents\\projects\\markpal\\venv\\lib\\site-packages (from google-auth!=2.24.0,!=2.25.0,<3.0.0,>=1.32.0->google-api-python-client->-r requirements.txt (line 1)) (4.9)\n",
      "Requirement already satisfied: pyparsing!=3.0.0,!=3.0.1,!=3.0.2,!=3.0.3,<4,>=2.4.2 in c:\\users\\lenovo\\onedrive\\documents\\projects\\markpal\\venv\\lib\\site-packages (from httplib2<1.0.0,>=0.19.0->google-api-python-client->-r requirements.txt (line 1)) (3.2.3)\n",
      "Requirement already satisfied: httpcore==1.* in c:\\users\\lenovo\\onedrive\\documents\\projects\\markpal\\venv\\lib\\site-packages (from httpx<1,>=0.23.0->openai->-r requirements.txt (line 4)) (1.0.7)\n",
      "Requirement already satisfied: h11<0.15,>=0.13 in c:\\users\\lenovo\\onedrive\\documents\\projects\\markpal\\venv\\lib\\site-packages (from httpcore==1.*->httpx<1,>=0.23.0->openai->-r requirements.txt (line 4)) (0.14.0)\n",
      "Requirement already satisfied: click in c:\\users\\lenovo\\onedrive\\documents\\projects\\markpal\\venv\\lib\\site-packages (from nltk>=3.9->textblob->-r requirements.txt (line 7)) (8.1.8)\n",
      "Requirement already satisfied: regex>=2021.8.3 in c:\\users\\lenovo\\onedrive\\documents\\projects\\markpal\\venv\\lib\\site-packages (from nltk>=3.9->textblob->-r requirements.txt (line 7)) (2024.11.6)\n",
      "Requirement already satisfied: annotated-types>=0.6.0 in c:\\users\\lenovo\\onedrive\\documents\\projects\\markpal\\venv\\lib\\site-packages (from pydantic<3,>=1.9.0->openai->-r requirements.txt (line 4)) (0.7.0)\n",
      "Requirement already satisfied: pydantic-core==2.27.2 in c:\\users\\lenovo\\onedrive\\documents\\projects\\markpal\\venv\\lib\\site-packages (from pydantic<3,>=1.9.0->openai->-r requirements.txt (line 4)) (2.27.2)\n",
      "Requirement already satisfied: six>=1.5 in c:\\users\\lenovo\\onedrive\\documents\\projects\\markpal\\venv\\lib\\site-packages (from python-dateutil>=2.5.3->pinecone->-r requirements.txt (line 3)) (1.17.0)\n",
      "Requirement already satisfied: importlib-metadata>=5 in c:\\users\\lenovo\\onedrive\\documents\\projects\\markpal\\venv\\lib\\site-packages (from cmudict->textstat->-r requirements.txt (line 9)) (8.6.1)\n",
      "Requirement already satisfied: importlib-resources>=5 in c:\\users\\lenovo\\onedrive\\documents\\projects\\markpal\\venv\\lib\\site-packages (from cmudict->textstat->-r requirements.txt (line 9)) (6.5.2)\n",
      "Requirement already satisfied: zipp>=3.20 in c:\\users\\lenovo\\onedrive\\documents\\projects\\markpal\\venv\\lib\\site-packages (from importlib-metadata>=5->cmudict->textstat->-r requirements.txt (line 9)) (3.21.0)\n",
      "Requirement already satisfied: pyasn1<0.7.0,>=0.4.6 in c:\\users\\lenovo\\onedrive\\documents\\projects\\markpal\\venv\\lib\\site-packages (from pyasn1-modules>=0.2.1->google-auth!=2.24.0,!=2.25.0,<3.0.0,>=1.32.0->google-api-python-client->-r requirements.txt (line 1)) (0.6.1)\n",
      "Note: you may need to restart the kernel to use updated packages.\n"
     ]
    }
   ],
   "source": [
    "pip install -r requirements.txt"
   ]
  },
  {
   "cell_type": "code",
   "execution_count": 9,
   "id": "c35aa528",
   "metadata": {},
   "outputs": [],
   "source": [
    "from textblob import TextBlob\n",
    "from sklearn.feature_extraction.text import TfidfVectorizer\n",
    "from sklearn.metrics.pairwise import cosine_similarity\n",
    "import textstat\n",
    "import re\n",
    "import pandas as pd"
   ]
  },
  {
   "cell_type": "code",
   "execution_count": 10,
   "id": "10a4db0f",
   "metadata": {},
   "outputs": [],
   "source": [
    "# Sample ad copies\n",
    "markpal_ad = \"Leave lag and low battery behind by upgrading to the iPhone 15. If your old iPhone is holding you back with slow performance, crashing apps, and poor battery life, you're not alone—millions have already made the switch and are enjoying a dramatically smoother experience. With the powerful A16 Bionic chip, the iPhone 15 delivers lightning-fast multitasking, stunning 48MP photos and videos, and impressive all-day battery life, even for heavy users. The elegant satin-finished design and the innovative Dynamic Island make it both beautiful and functional. Users upgrading from older models like the iPhone Xr immediately notice the difference, with many reporting a significantly easier and more enjoyable experience. While there have been isolated reports of issues with Pro models, the overall response from users and reviewers—such as ZDNET calling it “more 'Pro' than ever before”—highlights the iPhone 15’s exceptional performance and design. Don’t let outdated tech slow you down—visit your nearest Apple Store or carrier and experience the transformation for yourself. \""
   ]
  },
  {
   "cell_type": "code",
   "execution_count": 11,
   "id": "d6d21878",
   "metadata": {},
   "outputs": [],
   "source": [
    "copy_ad= \"The iPhone 15 ushers in a new era of innovation, blending sleek aesthetics with cutting-edge technology to deliver an unparalleled smartphone experience. Designed for creators, tech enthusiasts, and everyday users alike, this device features a revolutionary camera system that captures professional-grade photos and videos with ease. With enhanced connectivity, immersive display technology, and intelligent software optimizations, the iPhone 15 redefines what a smartphone can be.\""
   ]
  },
  {
   "cell_type": "code",
   "execution_count": 12,
   "id": "ff45721d",
   "metadata": {},
   "outputs": [],
   "source": [
    "narrato_ad= \"The iPhone 15 is more than just a smartphone — it's a bold leap into the future of mobile technology. With its refined design, ultra-responsive performance, and intelligent features, it’s built to empower how you live, create, and connect. Whether you’re capturing studio-quality photos with the advanced 48MP camera system, multitasking with ease through the dynamic A16 Bionic chip, or immersing yourself in the vibrant Super Retina XDR display, every detail has been crafted to elevate your experience. From content creators to everyday users, the iPhone 15 adapts seamlessly to your lifestyle, making everything faster, smoother, and more intuitive. This isn’t just an upgrade — it’s the iPhone, reimagined.\""
   ]
  },
  {
   "cell_type": "code",
   "execution_count": 13,
   "id": "5aa9768f",
   "metadata": {},
   "outputs": [],
   "source": [
    "ahref_ad= \"The iPhone 15 is precision engineering at its finest — a device that blends power, beauty, and intelligence into one seamless experience. Built with Apple’s most advanced chip yet, the A16 Bionic, it handles everything from high-end gaming to professional-grade video editing with effortless speed. The reimagined camera system captures every moment in stunning clarity, while the Dynamic Island keeps you in control with real-time updates and multitasking like never before. With all-day battery life and a sleek, durable design, the iPhone 15 isn’t just built for today — it’s ready for what’s next.\""
   ]
  },
  {
   "cell_type": "code",
   "execution_count": 14,
   "id": "48a2536d",
   "metadata": {},
   "outputs": [],
   "source": [
    "hubspot_ad= \"Step into the next generation of mobile innovation with the iPhone 15 — a smartphone crafted to outperform and outshine. Its sleek, satin-textured finish houses groundbreaking performance capabilities, including a lightning-fast processor and an upgraded 48MP camera that turns everyday moments into cinematic masterpieces. Enjoy ultra-smooth navigation, smarter features, and uninterrupted all-day battery life. Whether you're streaming, creating, or connecting, the iPhone 15 adapts to your rhythm and enhances every interaction. It’s not just about having the latest tech — it’s about experiencing the best of what technology can offer.\""
   ]
  },
  {
   "cell_type": "code",
   "execution_count": 15,
   "id": "d38312c3",
   "metadata": {},
   "outputs": [],
   "source": [
    "\n",
    "\n",
    "def get_readability(text):\n",
    "    return textstat.flesch_reading_ease(text)\n",
    "\n",
    "def get_sentiment(text):\n",
    "    return TextBlob(text).sentiment.polarity\n",
    "\n",
    "def get_word_count(text):\n",
    "    return len(text.split())\n",
    "\n",
    "def get_avg_sentence_length(text):\n",
    "    sentences = text.split('.')\n",
    "    sentences = [s.strip() for s in sentences if s.strip()]\n",
    "    if not sentences:\n",
    "        return 0\n",
    "    return sum(len(s.split()) for s in sentences) / len(sentences)\n",
    "\n",
    "def get_unique_word_ratio(text):\n",
    "    words = text.split()\n",
    "    return len(set(words)) / len(words) if words else 0\n",
    "\n",
    "def contains_cta(text):\n",
    "    cta_keywords = [\"start\", \"buy\", \"get\", \"join\", \"try\", \"explore\", \"discover\", \"learn\", \"download\"]\n",
    "    return any(kw in text.lower() for kw in cta_keywords)\n",
    "\n",
    "def contains_urgency(text):\n",
    "    urgency_words = [\"now\", \"limited\", \"today\", \"hurry\", \"exclusive\", \"instant\", \"fast\"]\n",
    "    return any(word in text.lower() for word in urgency_words)\n",
    "\n",
    "def contains_trust_signals(text):\n",
    "    trust_keywords = [\"trusted\", \"guaranteed\", \"proven\", \"safe\", \"secure\", \"backed\", \"certified\"]\n",
    "    return any(word in text.lower() for word in trust_keywords)\n",
    "\n",
    "def get_cosine_similarity(text1, text2):\n",
    "    vectorizer = TfidfVectorizer().fit_transform([text1, text2])\n",
    "    similarity = cosine_similarity(vectorizer[0:1], vectorizer[1:2])\n",
    "    return similarity[0][0]\n",
    "\n",
    "# Analyze both ads\n",
    "def analyze_ad(ad_text):\n",
    "    return {\n",
    "        \"Readability Score\": get_readability(ad_text),\n",
    "        \"Sentiment Score\": get_sentiment(ad_text),\n",
    "        \"Word Count\": get_word_count(ad_text),\n",
    "        \"Avg Sentence Length\": get_avg_sentence_length(ad_text),\n",
    "        \"Unique Word Ratio\": get_unique_word_ratio(ad_text),\n",
    "        \"Has CTA\": contains_cta(ad_text),\n",
    "        \"Has Urgency\": contains_urgency(ad_text),\n",
    "        \"Has Trust Signals\": contains_trust_signals(ad_text)\n",
    "    }\n"
   ]
  },
  {
   "cell_type": "code",
   "execution_count": 16,
   "id": "aea8bd0f",
   "metadata": {},
   "outputs": [
    {
     "name": "stdout",
     "output_type": "stream",
     "text": [
      "                Metric   Your Ad Competitor Ad\n",
      "0    Readability Score     31.21          7.15\n",
      "1      Sentiment Score  0.218333      0.245455\n",
      "2           Word Count       161            65\n",
      "3  Avg Sentence Length      23.0     21.666667\n",
      "4    Unique Word Ratio  0.763975      0.876923\n",
      "5              Has CTA     False         False\n",
      "6          Has Urgency      True         False\n",
      "7    Has Trust Signals     False         False\n",
      "8  Semantic Similarity  0.332629      0.332629\n"
     ]
    }
   ],
   "source": [
    "your_metrics = analyze_ad(markpal_ad)\n",
    "competitor_metrics = analyze_ad(copy_ad)\n",
    "similarity_score = get_cosine_similarity(markpal_ad, copy_ad)\n",
    "\n",
    "# Combine and present results\n",
    "comparison_df = pd.DataFrame({\n",
    "    \"Metric\": your_metrics.keys(),\n",
    "    \"Your Ad\": your_metrics.values(),\n",
    "    \"Competitor Ad\": competitor_metrics.values()\n",
    "})\n",
    "\n",
    "comparison_df.loc[len(comparison_df.index)] = [\"Semantic Similarity\", similarity_score, similarity_score]\n",
    "\n",
    "print(comparison_df)"
   ]
  },
  {
   "cell_type": "code",
   "execution_count": 15,
   "id": "febe2db8",
   "metadata": {},
   "outputs": [
    {
     "name": "stdout",
     "output_type": "stream",
     "text": [
      "                Metric   Your Ad Competitor Ad\n",
      "0    Readability Score     38.52          -6.7\n",
      "1      Sentiment Score  0.289286      0.245455\n",
      "2           Word Count        79            54\n",
      "3  Avg Sentence Length      15.8          27.0\n",
      "4    Unique Word Ratio  0.822785      0.925926\n",
      "5              Has CTA     False         False\n",
      "6          Has Urgency      True         False\n",
      "7    Has Trust Signals      True         False\n",
      "8  Semantic Similarity  0.213606      0.213606\n"
     ]
    }
   ],
   "source": [
    "your_metrics = analyze_ad(markpal_ad)\n",
    "competitor_metrics = analyze_ad(narrato_ad)\n",
    "similarity_score = get_cosine_similarity(markpal_ad, narrato_ad)\n",
    "\n",
    "# Combine and present results\n",
    "comparison_df = pd.DataFrame({\n",
    "    \"Metric\": your_metrics.keys(),\n",
    "    \"Your Ad\": your_metrics.values(),\n",
    "    \"Competitor Ad\": competitor_metrics.values()\n",
    "})\n",
    "\n",
    "comparison_df.loc[len(comparison_df.index)] = [\"Semantic Similarity\", similarity_score, similarity_score]\n",
    "\n",
    "print(comparison_df)"
   ]
  },
  {
   "cell_type": "code",
   "execution_count": 17,
   "id": "f4fd8ba0",
   "metadata": {},
   "outputs": [
    {
     "name": "stdout",
     "output_type": "stream",
     "text": [
      "                Metric   Your Ad Competitor Ad\n",
      "0    Readability Score     31.21         31.21\n",
      "1      Sentiment Score  0.218333      0.242857\n",
      "2           Word Count       161            94\n",
      "3  Avg Sentence Length      23.0          23.5\n",
      "4    Unique Word Ratio  0.763975      0.861702\n",
      "5              Has CTA     False         False\n",
      "6          Has Urgency      True          True\n",
      "7    Has Trust Signals     False         False\n",
      "8  Semantic Similarity  0.459251      0.459251\n"
     ]
    }
   ],
   "source": [
    "your_metrics = analyze_ad(markpal_ad)\n",
    "competitor_metrics = analyze_ad(ahref_ad)\n",
    "similarity_score = get_cosine_similarity(markpal_ad, ahref_ad)\n",
    "\n",
    "# Combine and present results\n",
    "comparison_df = pd.DataFrame({\n",
    "    \"Metric\": your_metrics.keys(),\n",
    "    \"Your Ad\": your_metrics.values(),\n",
    "    \"Competitor Ad\": competitor_metrics.values()\n",
    "})\n",
    "\n",
    "comparison_df.loc[len(comparison_df.index)] = [\"Semantic Similarity\", similarity_score, similarity_score]\n",
    "\n",
    "print(comparison_df)"
   ]
  },
  {
   "cell_type": "code",
   "execution_count": 17,
   "id": "1a3ef6c5",
   "metadata": {},
   "outputs": [
    {
     "name": "stdout",
     "output_type": "stream",
     "text": [
      "                Metric   Your Ad Competitor Ad\n",
      "0    Readability Score     38.52          -6.7\n",
      "1      Sentiment Score  0.289286      0.245455\n",
      "2           Word Count        79            54\n",
      "3  Avg Sentence Length      15.8          27.0\n",
      "4    Unique Word Ratio  0.822785      0.925926\n",
      "5              Has CTA     False         False\n",
      "6          Has Urgency      True         False\n",
      "7    Has Trust Signals      True         False\n",
      "8  Semantic Similarity  0.213606      0.213606\n"
     ]
    }
   ],
   "source": [
    "your_metrics = analyze_ad(markpal_ad)\n",
    "competitor_metrics = analyze_ad(hubspot_ad)\n",
    "similarity_score = get_cosine_similarity(markpal_ad, hubspot_ad)\n",
    "\n",
    "# Combine and present results\n",
    "comparison_df = pd.DataFrame({\n",
    "    \"Metric\": your_metrics.keys(),\n",
    "    \"Your Ad\": your_metrics.values(),\n",
    "    \"Competitor Ad\": competitor_metrics.values()\n",
    "})\n",
    "\n",
    "comparison_df.loc[len(comparison_df.index)] = [\"Semantic Similarity\", similarity_score, similarity_score]\n",
    "\n",
    "print(comparison_df)"
   ]
  },
  {
   "cell_type": "code",
   "execution_count": null,
   "id": "252ae777",
   "metadata": {},
   "outputs": [],
   "source": []
  }
 ],
 "metadata": {
  "kernelspec": {
   "display_name": "venv",
   "language": "python",
   "name": "python3"
  },
  "language_info": {
   "codemirror_mode": {
    "name": "ipython",
    "version": 3
   },
   "file_extension": ".py",
   "mimetype": "text/x-python",
   "name": "python",
   "nbconvert_exporter": "python",
   "pygments_lexer": "ipython3",
   "version": "3.12.9"
  }
 },
 "nbformat": 4,
 "nbformat_minor": 5
}
